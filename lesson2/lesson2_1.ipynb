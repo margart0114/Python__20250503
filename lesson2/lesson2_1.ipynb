{
  "nbformat": 4,
  "nbformat_minor": 0,
  "metadata": {
    "colab": {
      "provenance": [],
      "authorship_tag": "ABX9TyM9mwPadAkuvJjJC+jB02mk",
      "include_colab_link": true
    },
    "kernelspec": {
      "name": "python3",
      "display_name": "Python 3"
    },
    "language_info": {
      "name": "python"
    }
  },
  "cells": [
    {
      "cell_type": "markdown",
      "metadata": {
        "id": "view-in-github",
        "colab_type": "text"
      },
      "source": [
        "<a href=\"https://colab.research.google.com/github/margart0114/Python__20250503/blob/main/lesson2/lesson2_1.ipynb\" target=\"_parent\"><img src=\"https://colab.research.google.com/assets/colab-badge.svg\" alt=\"Open In Colab\"/></a>"
      ]
    },
    {
      "cell_type": "code",
      "execution_count": null,
      "metadata": {
        "id": "GGb_KSNW3D1u",
        "outputId": "a8b168fb-52da-457e-887a-15e5baff02b2",
        "colab": {
          "base_uri": "https://localhost:8080/"
        }
      },
      "outputs": [
        {
          "output_type": "execute_result",
          "data": {
            "text/plain": [
              "14"
            ]
          },
          "metadata": {},
          "execution_count": 1
        }
      ],
      "source": [
        "2 + 3 * 4"
      ]
    },
    {
      "cell_type": "code",
      "source": [
        "(2 + 3) * 4"
      ],
      "metadata": {
        "id": "hSaQ5ig68Pdd",
        "outputId": "7ff34abd-9a39-4381-a6ca-90aae62b857a",
        "colab": {
          "base_uri": "https://localhost:8080/"
        }
      },
      "execution_count": null,
      "outputs": [
        {
          "output_type": "execute_result",
          "data": {
            "text/plain": [
              "20"
            ]
          },
          "metadata": {},
          "execution_count": 2
        }
      ]
    },
    {
      "cell_type": "markdown",
      "source": [
        "-會做6件事\n",
        "-運算式->會傳出值\n",
        "\n",
        "**運算子的優先順序**\n",
        "- ()\n",
        "- \\**\n",
        "- \\* / % //\n",
        "- \\+ -\n",
        "- =\n",
        "\n",
        "__運算子的優先順序__\n",
        "\n",
        "*運算子的優先順序*\n",
        "\n",
        "~~運算子的優先順序~~\n"
      ],
      "metadata": {
        "id": "I59y2ryU9Nhc"
      }
    },
    {
      "cell_type": "code",
      "source": [
        "2 * (1 + 2) ** 2 - 2 ** 2 * 2"
      ],
      "metadata": {
        "id": "-nZ5JtuP8V0A",
        "outputId": "8b88df62-cdf4-4fe4-f780-d7057c2b72a0",
        "colab": {
          "base_uri": "https://localhost:8080/"
        }
      },
      "execution_count": null,
      "outputs": [
        {
          "output_type": "execute_result",
          "data": {
            "text/plain": [
              "10"
            ]
          },
          "metadata": {},
          "execution_count": 5
        }
      ]
    },
    {
      "cell_type": "markdown",
      "source": [
        "### 敘述式\n"
      ],
      "metadata": {
        "id": "nhCCOaIRAaTk"
      }
    },
    {
      "cell_type": "code",
      "source": [
        "n = 2 * (1 + 2) ** 2 - 2 ** 2 * 2\n",
        "\n",
        "n = n * 10\n",
        "\n",
        "n"
      ],
      "metadata": {
        "id": "nK_Vz2_0ABdO",
        "outputId": "838d96a8-3e46-492b-b02f-95231c8f6fc6",
        "colab": {
          "base_uri": "https://localhost:8080/"
        }
      },
      "execution_count": null,
      "outputs": [
        {
          "output_type": "execute_result",
          "data": {
            "text/plain": [
              "100"
            ]
          },
          "metadata": {},
          "execution_count": 12
        }
      ]
    },
    {
      "cell_type": "markdown",
      "source": [
        "### 複合指定運算子"
      ],
      "metadata": {
        "id": "Egd1mY3RBjfr"
      }
    },
    {
      "cell_type": "code",
      "source": [
        "n = 2 * (1 + 2) ** 2 - 2 ** 2 * 2\n",
        "\n",
        "n *= 10\n",
        "\n",
        "print (n)"
      ],
      "metadata": {
        "id": "Hg6SagsdBoYM",
        "outputId": "a763a35e-b2db-488a-99ab-569dfc52e06a",
        "colab": {
          "base_uri": "https://localhost:8080/"
        }
      },
      "execution_count": 14,
      "outputs": [
        {
          "output_type": "stream",
          "name": "stdout",
          "text": [
            "100\n"
          ]
        }
      ]
    },
    {
      "cell_type": "markdown",
      "source": [
        "### input()使用"
      ],
      "metadata": {
        "id": "Q5E8EAfYEZx5"
      }
    },
    {
      "cell_type": "code",
      "source": [
        "name = input(\"請輸入您的姓名:\")\n",
        "print (\"您的名字:\",name)"
      ],
      "metadata": {
        "id": "nfytyiDUEZje",
        "outputId": "a4338d0b-5cb5-4789-8183-c2cbf52cc707",
        "colab": {
          "base_uri": "https://localhost:8080/"
        }
      },
      "execution_count": 27,
      "outputs": [
        {
          "output_type": "stream",
          "name": "stdout",
          "text": [
            "請輸入您的姓名:Eva\n",
            "您的名字: Eva\n"
          ]
        }
      ]
    },
    {
      "cell_type": "markdown",
      "source": [
        "### python是動態型別"
      ],
      "metadata": {
        "id": "RNHuv-NuGM3n"
      }
    },
    {
      "cell_type": "code",
      "source": [
        "name = input(\"請輸入您的姓名:\")\n",
        "type(name)\n",
        "name = 100\n",
        "type(name)\n",
        "name = 100.0\n",
        "type(name)"
      ],
      "metadata": {
        "id": "Oj7CQfwfGQBM",
        "outputId": "9692a9e5-3710-4b02-f2fe-dc6ab64abc1c",
        "colab": {
          "base_uri": "https://localhost:8080/"
        }
      },
      "execution_count": 31,
      "outputs": [
        {
          "name": "stdout",
          "output_type": "stream",
          "text": [
            "請輸入您的姓名:eva\n"
          ]
        },
        {
          "output_type": "execute_result",
          "data": {
            "text/plain": [
              "float"
            ]
          },
          "metadata": {},
          "execution_count": 31
        }
      ]
    }
  ]
}