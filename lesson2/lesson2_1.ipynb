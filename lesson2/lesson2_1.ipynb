{
  "nbformat": 4,
  "nbformat_minor": 0,
  "metadata": {
    "colab": {
      "provenance": [],
      "authorship_tag": "ABX9TyN0LF71yIS8SKXjaSUatGrp",
      "include_colab_link": true
    },
    "kernelspec": {
      "name": "python3",
      "display_name": "Python 3"
    },
    "language_info": {
      "name": "python"
    }
  },
  "cells": [
    {
      "cell_type": "markdown",
      "metadata": {
        "id": "view-in-github",
        "colab_type": "text"
      },
      "source": [
        "<a href=\"https://colab.research.google.com/github/margart0114/Python__20250503/blob/main/lesson2/lesson2_1.ipynb\" target=\"_parent\"><img src=\"https://colab.research.google.com/assets/colab-badge.svg\" alt=\"Open In Colab\"/></a>"
      ]
    },
    {
      "cell_type": "code",
      "execution_count": null,
      "metadata": {
        "id": "GGb_KSNW3D1u",
        "outputId": "a8b168fb-52da-457e-887a-15e5baff02b2",
        "colab": {
          "base_uri": "https://localhost:8080/"
        }
      },
      "outputs": [
        {
          "output_type": "execute_result",
          "data": {
            "text/plain": [
              "14"
            ]
          },
          "metadata": {},
          "execution_count": 1
        }
      ],
      "source": [
        "2 + 3 * 4"
      ]
    },
    {
      "cell_type": "code",
      "source": [
        "(2 + 3) * 4"
      ],
      "metadata": {
        "id": "hSaQ5ig68Pdd",
        "outputId": "7ff34abd-9a39-4381-a6ca-90aae62b857a",
        "colab": {
          "base_uri": "https://localhost:8080/"
        }
      },
      "execution_count": 2,
      "outputs": [
        {
          "output_type": "execute_result",
          "data": {
            "text/plain": [
              "20"
            ]
          },
          "metadata": {},
          "execution_count": 2
        }
      ]
    },
    {
      "cell_type": "markdown",
      "source": [
        "-會做6件事\n",
        "-運算式->會傳出值\n",
        "\n",
        "**運算子的優先順序**\n",
        "- ()\n",
        "- \\**\n",
        "- \\* / % //\n",
        "- \\+ -\n",
        "- =\n",
        "\n",
        "__運算子的優先順序__\n",
        "\n",
        "*運算子的優先順序*\n",
        "\n",
        "~~運算子的優先順序~~\n"
      ],
      "metadata": {
        "id": "I59y2ryU9Nhc"
      }
    },
    {
      "cell_type": "code",
      "source": [
        "2 * (1 + 2) ** 2 - 2 ** 2 * 2"
      ],
      "metadata": {
        "id": "-nZ5JtuP8V0A",
        "outputId": "8b88df62-cdf4-4fe4-f780-d7057c2b72a0",
        "colab": {
          "base_uri": "https://localhost:8080/"
        }
      },
      "execution_count": 5,
      "outputs": [
        {
          "output_type": "execute_result",
          "data": {
            "text/plain": [
              "10"
            ]
          },
          "metadata": {},
          "execution_count": 5
        }
      ]
    },
    {
      "cell_type": "markdown",
      "source": [
        "### 敘述式\n"
      ],
      "metadata": {
        "id": "nhCCOaIRAaTk"
      }
    },
    {
      "cell_type": "code",
      "source": [
        "n = 2 * (1 + 2) ** 2 - 2 ** 2 * 2\n",
        "\n",
        "n = n * 10\n",
        "\n",
        "n"
      ],
      "metadata": {
        "id": "nK_Vz2_0ABdO",
        "outputId": "838d96a8-3e46-492b-b02f-95231c8f6fc6",
        "colab": {
          "base_uri": "https://localhost:8080/"
        }
      },
      "execution_count": 12,
      "outputs": [
        {
          "output_type": "execute_result",
          "data": {
            "text/plain": [
              "100"
            ]
          },
          "metadata": {},
          "execution_count": 12
        }
      ]
    }
  ]
}