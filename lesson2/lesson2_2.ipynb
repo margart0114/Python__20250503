{
  "nbformat": 4,
  "nbformat_minor": 0,
  "metadata": {
    "colab": {
      "provenance": [],
      "authorship_tag": "ABX9TyNMeP+mOHLzwJQW2Jopl6r5",
      "include_colab_link": true
    },
    "kernelspec": {
      "name": "python3",
      "display_name": "Python 3"
    },
    "language_info": {
      "name": "python"
    }
  },
  "cells": [
    {
      "cell_type": "markdown",
      "metadata": {
        "id": "view-in-github",
        "colab_type": "text"
      },
      "source": [
        "<a href=\"https://colab.research.google.com/github/margart0114/Python__20250503/blob/main/lesson2/lesson2_2.ipynb\" target=\"_parent\"><img src=\"https://colab.research.google.com/assets/colab-badge.svg\" alt=\"Open In Colab\"/></a>"
      ]
    },
    {
      "cell_type": "markdown",
      "source": [
        "### 只有數值型別可以數學運算"
      ],
      "metadata": {
        "id": "JzZ-MVSjHi1-"
      }
    },
    {
      "cell_type": "code",
      "execution_count": null,
      "metadata": {
        "id": "9zNCOx7VHWJ2",
        "outputId": "0b5c77a4-4022-4792-e1b2-1a4b744892a7",
        "colab": {
          "base_uri": "https://localhost:8080/"
        }
      },
      "outputs": [
        {
          "output_type": "execute_result",
          "data": {
            "text/plain": [
              "10.0"
            ]
          },
          "metadata": {},
          "execution_count": 3
        }
      ],
      "source": [
        " 5 + 5\n",
        " 5.0 + 5.0\n",
        " 5 + 5.0"
      ]
    },
    {
      "cell_type": "markdown",
      "source": [
        "### 數值和字串無法數學運算"
      ],
      "metadata": {
        "id": "KgGZqe0OH2Xb"
      }
    },
    {
      "cell_type": "code",
      "source": [
        "5 + \"5\""
      ],
      "metadata": {
        "id": "ZodeNGG5H6jU",
        "outputId": "fe6243af-3c89-4d9e-dddd-47fc70c7a4b0",
        "colab": {
          "base_uri": "https://localhost:8080/",
          "height": 141
        }
      },
      "execution_count": null,
      "outputs": [
        {
          "output_type": "error",
          "ename": "TypeError",
          "evalue": "unsupported operand type(s) for +: 'int' and 'str'",
          "traceback": [
            "\u001b[0;31m---------------------------------------------------------------------------\u001b[0m",
            "\u001b[0;31mTypeError\u001b[0m                                 Traceback (most recent call last)",
            "\u001b[0;32m<ipython-input-4-b265071c056c>\u001b[0m in \u001b[0;36m<cell line: 0>\u001b[0;34m()\u001b[0m\n\u001b[0;32m----> 1\u001b[0;31m \u001b[0;36m5\u001b[0m \u001b[0;34m+\u001b[0m \u001b[0;34m\"5\"\u001b[0m\u001b[0;34m\u001b[0m\u001b[0;34m\u001b[0m\u001b[0m\n\u001b[0m",
            "\u001b[0;31mTypeError\u001b[0m: unsupported operand type(s) for +: 'int' and 'str'"
          ]
        }
      ]
    },
    {
      "cell_type": "markdown",
      "source": [
        "### 字串和字串可以相加, 相乘\n",
        "\n"
      ],
      "metadata": {
        "id": "S8EENyxoICmW"
      }
    },
    {
      "cell_type": "code",
      "source": [
        " \"5\" + \"5\"\n",
        " \"=\" * 10"
      ],
      "metadata": {
        "id": "DI4tXUjRIGbS",
        "outputId": "bed1d40b-745e-4cc4-f180-0342a35bce89",
        "colab": {
          "base_uri": "https://localhost:8080/",
          "height": 35
        }
      },
      "execution_count": null,
      "outputs": [
        {
          "output_type": "execute_result",
          "data": {
            "text/plain": [
              "'=========='"
            ],
            "application/vnd.google.colaboratory.intrinsic+json": {
              "type": "string"
            }
          },
          "metadata": {},
          "execution_count": 7
        }
      ]
    },
    {
      "cell_type": "markdown",
      "source": [
        "### 暫時轉換型別"
      ],
      "metadata": {
        "id": "OB1piYDnITCz"
      }
    },
    {
      "cell_type": "code",
      "source": [
        " 5 + float(\"5\")"
      ],
      "metadata": {
        "id": "8rEMvmmgIXNq",
        "outputId": "265320b9-a47c-4345-e99c-01843d5680e7",
        "colab": {
          "base_uri": "https://localhost:8080/"
        }
      },
      "execution_count": null,
      "outputs": [
        {
          "output_type": "execute_result",
          "data": {
            "text/plain": [
              "10.0"
            ]
          },
          "metadata": {},
          "execution_count": 9
        }
      ]
    },
    {
      "cell_type": "code",
      "source": [
        "width = float(input(\"請輸入矩型的寬:\"))\n",
        "height = float(input(\"請輸入矩型的高:\"))\n",
        "area = width * height\n",
        "print(\"矩型的面積為:\",area)\n"
      ],
      "metadata": {
        "id": "umfRT5KEIibU",
        "outputId": "1f391e5c-7209-4a2e-bef4-3453fce64daf",
        "colab": {
          "base_uri": "https://localhost:8080/"
        }
      },
      "execution_count": null,
      "outputs": [
        {
          "output_type": "stream",
          "name": "stdout",
          "text": [
            "請輸入矩型的寬:4.678\n",
            "請輸入矩型的高:9.257\n",
            "矩型的面積為: 43.304246\n"
          ]
        }
      ]
    },
    {
      "cell_type": "code",
      "source": [
        "import math\n",
        "side = float(input(\"請輸入對邊:\"))\n",
        "another_side = float(input(\"請輸入鄰邊:\"))\n",
        "answer = math.sqrt(side ** 2 + another_side ** 2)\n",
        "type(answer)\n",
        "print(\"斜邊為:\",answer)"
      ],
      "metadata": {
        "id": "ssSUhMJUKIib",
        "outputId": "a83f54c3-fc84-4b69-d543-9eee84dd86e6",
        "colab": {
          "base_uri": "https://localhost:8080/"
        }
      },
      "execution_count": 21,
      "outputs": [
        {
          "output_type": "stream",
          "name": "stdout",
          "text": [
            "請輸入對邊:20\n",
            "請輸入鄰邊:30\n",
            "斜邊為: 36.05551275463989\n"
          ]
        }
      ]
    }
  ]
}