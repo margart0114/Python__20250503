{
  "nbformat": 4,
  "nbformat_minor": 0,
  "metadata": {
    "colab": {
      "provenance": [],
      "authorship_tag": "ABX9TyOu2RLUTsTUoKZ0DVMEs5O+",
      "include_colab_link": true
    },
    "kernelspec": {
      "name": "python3",
      "display_name": "Python 3"
    },
    "language_info": {
      "name": "python"
    }
  },
  "cells": [
    {
      "cell_type": "markdown",
      "metadata": {
        "id": "view-in-github",
        "colab_type": "text"
      },
      "source": [
        "<a href=\"https://colab.research.google.com/github/margart0114/Python__20250503/blob/main/lesson4/lesson4_2.ipynb\" target=\"_parent\"><img src=\"https://colab.research.google.com/assets/colab-badge.svg\" alt=\"Open In Colab\"/></a>"
      ]
    },
    {
      "cell_type": "markdown",
      "source": [
        "# python while迴圈說明\n",
        "\n",
        "---\n",
        "\n",
        "Python 的 while 迴圈用來根據條件判斷，重複執行某段程式碼，直到條件不成立為止。其基本語法如下：\n",
        "\n",
        "```\n",
        "while 條件:\n",
        "    程式區塊\n",
        "```\n",
        "\n",
        "•\t當條件為 True 時，會執行縮排的程式區塊。  \n",
        "•\t每次執行完程式區塊後，會再次檢查條件，若仍為 True，則繼續執行迴圈。  \n",
        "•\t當條件變為 False，迴圈結束，程式往下繼續執行。"
      ],
      "metadata": {
        "id": "CmO8-CLOEJ81"
      }
    },
    {
      "cell_type": "code",
      "source": [
        "count = 1\n",
        "while count <= 5:\n",
        "  print(count)\n",
        "  count += 1"
      ],
      "metadata": {
        "id": "GMDELOKjELBY",
        "outputId": "81308b66-0494-40e5-b2c7-03fad5bdcf0c",
        "colab": {
          "base_uri": "https://localhost:8080/"
        }
      },
      "execution_count": 5,
      "outputs": [
        {
          "output_type": "stream",
          "name": "stdout",
          "text": [
            "1\n",
            "2\n",
            "3\n",
            "4\n",
            "5\n"
          ]
        }
      ]
    },
    {
      "cell_type": "code",
      "source": [
        "total = 0\n",
        "while True:\n",
        "  num = int(input(\"請輸入一個數字(輸入0結束):\"))\n",
        "  if num == 0:\n",
        "    break\n",
        "  total += num\n",
        "print(\"總和:\",total)"
      ],
      "metadata": {
        "id": "9MAcW27JGE9r",
        "outputId": "d1f672a2-6003-4428-bb02-027ddf8e3338",
        "colab": {
          "base_uri": "https://localhost:8080/"
        }
      },
      "execution_count": 9,
      "outputs": [
        {
          "output_type": "stream",
          "name": "stdout",
          "text": [
            "請輸入一個數字(輸入0結束):5\n",
            "請輸入一個數字(輸入0結束):10\n",
            "請輸入一個數字(輸入0結束):0\n",
            "總和: 15\n"
          ]
        }
      ]
    },
    {
      "cell_type": "markdown",
      "source": [
        "# python 取得亂數1~100\n"
      ],
      "metadata": {
        "id": "8sscFPmIHqho"
      }
    },
    {
      "cell_type": "code",
      "source": [
        "import random\n",
        "min = 1\n",
        "max = 1000\n",
        "count = 0\n",
        "random_number = random.randint(min,max)\n",
        "#print(random_number)\n",
        "print(\"======猜數字遊戲開始=======\\n\\n\")\n",
        "while True:\n",
        "  input_number = int(input(f\"請輸入數字({min}~{max}):\"))\n",
        "  count += 1\n",
        "  if(input_number == random_number):\n",
        "    print(f\"賓果!猜對了,答案是:{input_number}\")\n",
        "    print(f\"您猜了:{count}次\")\n",
        "    break\n",
        "  elif(input_number>random_number):\n",
        "    print(f\"再小一點\")\n",
        "    max = input_number -1\n",
        "  elif(input_number<random_number):\n",
        "    print(f\"再大一點\")\n",
        "    min = input_number +1\n",
        "\n",
        "  print(f\"您已經猜了:{count}次\\n\")\n",
        "\n",
        "print(\"Game over\")"
      ],
      "metadata": {
        "id": "XhG-1BF4HtNw",
        "outputId": "9da08d16-bc3f-48bf-dae5-bef780476fb5",
        "colab": {
          "base_uri": "https://localhost:8080/"
        }
      },
      "execution_count": 35,
      "outputs": [
        {
          "output_type": "stream",
          "name": "stdout",
          "text": [
            "======猜數字遊戲開始=======\n",
            "\n",
            "\n",
            "請輸入數字(1~1000):59\n",
            "再大一點\n",
            "您已經猜了:1次\n",
            "\n",
            "請輸入數字(60~1000):555\n",
            "再大一點\n",
            "您已經猜了:2次\n",
            "\n",
            "請輸入數字(556~1000):685\n",
            "再大一點\n",
            "您已經猜了:3次\n",
            "\n",
            "請輸入數字(686~1000):758\n",
            "再大一點\n",
            "您已經猜了:4次\n",
            "\n",
            "請輸入數字(759~1000):888\n",
            "再小一點\n",
            "您已經猜了:5次\n",
            "\n",
            "請輸入數字(759~887):658\n",
            "再大一點\n",
            "您已經猜了:6次\n",
            "\n",
            "請輸入數字(659~887):777\n",
            "再大一點\n",
            "您已經猜了:7次\n",
            "\n",
            "請輸入數字(778~887):795\n",
            "再大一點\n",
            "您已經猜了:8次\n",
            "\n",
            "請輸入數字(796~887):845\n",
            "再大一點\n",
            "您已經猜了:9次\n",
            "\n",
            "請輸入數字(846~887):856\n",
            "再大一點\n",
            "您已經猜了:10次\n",
            "\n",
            "請輸入數字(857~887):865\n",
            "再大一點\n",
            "您已經猜了:11次\n",
            "\n",
            "請輸入數字(866~887):869\n",
            "再小一點\n",
            "您已經猜了:12次\n",
            "\n",
            "請輸入數字(866~868):867\n",
            "賓果!猜對了,答案是:867\n",
            "您猜了:13次\n",
            "Game over\n"
          ]
        }
      ]
    },
    {
      "cell_type": "code",
      "source": [
        "orange = 3\n",
        "apple = 5\n",
        "\"您有orange\" + str(orange) + \"個, apple\" + str(apple) + \"個\""
      ],
      "metadata": {
        "id": "X6lk5IIpIthY",
        "outputId": "9fd25dbf-647b-4537-ba43-6d86a79f96e2",
        "colab": {
          "base_uri": "https://localhost:8080/",
          "height": 35
        }
      },
      "execution_count": 27,
      "outputs": [
        {
          "output_type": "execute_result",
          "data": {
            "text/plain": [
              "'您有orange3個, apple5個'"
            ],
            "application/vnd.google.colaboratory.intrinsic+json": {
              "type": "string"
            }
          },
          "metadata": {},
          "execution_count": 27
        }
      ]
    },
    {
      "cell_type": "code",
      "source": [
        "orange = 3\n",
        "apple = 5\n",
        "f\"您有orange{orange}個, apple{apple}個\""
      ],
      "metadata": {
        "id": "wR5qM6WbJWXD",
        "outputId": "a307c99d-9596-42ae-e9f6-99f2ea8c2eb0",
        "colab": {
          "base_uri": "https://localhost:8080/",
          "height": 35
        }
      },
      "execution_count": 32,
      "outputs": [
        {
          "output_type": "execute_result",
          "data": {
            "text/plain": [
              "'您有orange3個, apple5個'"
            ],
            "application/vnd.google.colaboratory.intrinsic+json": {
              "type": "string"
            }
          },
          "metadata": {},
          "execution_count": 32
        }
      ]
    }
  ]
}