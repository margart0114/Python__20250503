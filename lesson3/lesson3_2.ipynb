{
  "nbformat": 4,
  "nbformat_minor": 0,
  "metadata": {
    "colab": {
      "provenance": [],
      "authorship_tag": "ABX9TyPJSOA1IVVRmDFkoeIfR530",
      "include_colab_link": true
    },
    "kernelspec": {
      "name": "python3",
      "display_name": "Python 3"
    },
    "language_info": {
      "name": "python"
    }
  },
  "cells": [
    {
      "cell_type": "markdown",
      "metadata": {
        "id": "view-in-github",
        "colab_type": "text"
      },
      "source": [
        "<a href=\"https://colab.research.google.com/github/margart0114/Python__20250503/blob/main/lesson3/lesson3_2.ipynb\" target=\"_parent\"><img src=\"https://colab.research.google.com/assets/colab-badge.svg\" alt=\"Open In Colab\"/></a>"
      ]
    },
    {
      "cell_type": "markdown",
      "source": [
        "# python邏輯運算子\n",
        "\n",
        "---\n",
        "Python的邏輯運算子主要用於結合多個條件判斷，結果為布林值（True或False）。\n",
        "\n",
        "Python中有三種基本的邏輯運算子：\n",
        "\n",
        "Python邏輯運算子及語法說明\n",
        "\n",
        "- and：邏輯且運算子，當兩個條件都為True時，整體結果才為True，否則為False。\n",
        "- or：邏輯或運算子，只要其中一個條件為True，整體結果即為True，只有全部為False時結果才為False。\n",
        "- not：邏輯非運算子，將條件結果取反，True變False，False變True。"
      ],
      "metadata": {
        "id": "_I4SjLYQqVm-"
      }
    },
    {
      "cell_type": "code",
      "execution_count": 6,
      "metadata": {
        "id": "p8uKs1beprHB",
        "outputId": "91ea3e3c-db93-4549-fc43-9364f88b238b",
        "colab": {
          "base_uri": "https://localhost:8080/"
        }
      },
      "outputs": [
        {
          "output_type": "stream",
          "name": "stdout",
          "text": [
            "血壓正常\n"
          ]
        }
      ],
      "source": [
        "pressure = 92\n",
        "if pressure >= 80:\n",
        "  if pressure <= 120:\n",
        "    print(\"血壓正常\")"
      ]
    },
    {
      "cell_type": "code",
      "source": [
        "pressure = 180\n",
        "if pressure >= 80 and pressure <=120:\n",
        "  print(\"血壓正常\")\n",
        "else:\n",
        "  print(\"血壓不正常\")"
      ],
      "metadata": {
        "id": "314jBWX8q1rh",
        "outputId": "d674dfef-b070-4f48-9aca-a413f289ee43",
        "colab": {
          "base_uri": "https://localhost:8080/"
        }
      },
      "execution_count": 5,
      "outputs": [
        {
          "output_type": "stream",
          "name": "stdout",
          "text": [
            "血壓不正常\n"
          ]
        }
      ]
    },
    {
      "cell_type": "code",
      "source": [
        "pressure = 81\n",
        "if pressure < 80 or pressure >120:\n",
        "  print(\"血壓不正常\")\n",
        "else:\n",
        "  print(\"血壓正常\")"
      ],
      "metadata": {
        "id": "6uKNsOVGrHLD",
        "outputId": "4151e630-ab6b-4c25-f707-c7d490efebad",
        "colab": {
          "base_uri": "https://localhost:8080/"
        }
      },
      "execution_count": 8,
      "outputs": [
        {
          "output_type": "stream",
          "name": "stdout",
          "text": [
            "血壓正常\n"
          ]
        }
      ]
    },
    {
      "cell_type": "code",
      "source": [
        "#not的功能是讓true和false的程式區塊對調\n",
        "pressure = 92\n",
        "if not (pressure >= 80 and pressure <=120):\n",
        "  print(\"血壓不正常\")\n",
        "else:\n",
        "  print(\"血壓正常\")"
      ],
      "metadata": {
        "id": "5xb_s1q8rotq",
        "outputId": "5ec4f262-6591-442c-d0ad-3b6f1f4efe58",
        "colab": {
          "base_uri": "https://localhost:8080/"
        }
      },
      "execution_count": 9,
      "outputs": [
        {
          "output_type": "stream",
          "name": "stdout",
          "text": [
            "血壓正常\n"
          ]
        }
      ]
    }
  ]
}